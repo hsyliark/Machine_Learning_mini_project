{
 "cells": [
  {
   "cell_type": "markdown",
   "metadata": {},
   "source": [
    "# CNN with cifar100 data\n",
    "## 황 성 윤\n",
    "- 데이터 : https://www.cs.toronto.edu/~kriz/cifar.html \n",
    "- 참고 : https://datascienceschool.net/view-notebook/8fc58d2c1ffc420dac44eafee7b28cea/"
   ]
  },
  {
   "cell_type": "markdown",
   "metadata": {},
   "source": [
    "## 필요 라이브러리 확인"
   ]
  },
  {
   "cell_type": "code",
   "execution_count": 1,
   "metadata": {},
   "outputs": [
    {
     "name": "stderr",
     "output_type": "stream",
     "text": [
      "Using TensorFlow backend.\n"
     ]
    }
   ],
   "source": [
    "# need library\n",
    "import numpy as np\n",
    "import tensorflow as tf\n",
    "# warning remove\n",
    "if type(tf.contrib) != type(tf):\n",
    "    tf.contrib._warning = None\n",
    "# 딥러닝 구동에 필요한 케라스 함수\n",
    "from keras.models import Sequential\n",
    "from keras.layers import Dense "
   ]
  },
  {
   "cell_type": "markdown",
   "metadata": {},
   "source": [
    "## 데이터 전처리\n",
    "- cifar10 데이터는 keras 라이브러리에서 불러올 수 있으며, 50000종의 훈련용 이미지와 10000종의 검증용 이미지로 구성되어 있다."
   ]
  },
  {
   "cell_type": "code",
   "execution_count": 2,
   "metadata": {},
   "outputs": [
    {
     "name": "stdout",
     "output_type": "stream",
     "text": [
      "Downloading data from https://www.cs.toronto.edu/~kriz/cifar-100-python.tar.gz\n",
      "169009152/169001437 [==============================] - 45s 0us/step\n",
      "(50000, 32, 32, 3) uint8\n",
      "(50000, 1) int32\n",
      "(10000, 32, 32, 3) uint8\n",
      "(10000, 1) int32\n"
     ]
    }
   ],
   "source": [
    "from keras.datasets import cifar100\n",
    "(X_train, y_train0), (X_test, y_test0) = cifar100.load_data()\n",
    "print(X_train.shape, X_train.dtype)\n",
    "print(y_train0.shape, y_train0.dtype)\n",
    "print(X_test.shape, X_test.dtype)\n",
    "print(y_test0.shape, y_test0.dtype)"
   ]
  },
  {
   "cell_type": "markdown",
   "metadata": {},
   "source": [
    "### 데이터 확인\n",
    "- 본 데이터는 100가지 class로 구분되어 있고, 이는 다시 20가지 superclass로 묶여있다.\n",
    "  - Superclass -> Classes\n",
    "  - aquatic -> mammals\tbeaver, dolphin, otter, seal, whale\n",
    "  - fish -> aquarium fish, flatfish, ray, shark, trout\n",
    "  - flowers -> orchids, poppies, roses, sunflowers, tulips\n",
    "  - food -> containers\tbottles, bowls, cans, cups, plates\n",
    "  - fruit and vegetables -> apples, mushrooms, oranges, pears, sweet peppers\n",
    "  - household electrical devices -> clock, computer keyboard, lamp, telephone, television\n",
    "  - household furniture -> bed, chair, couch, table, wardrobe\n",
    "  - insects -> bee, beetle, butterfly, caterpillar, cockroach\n",
    "  - large carnivores -> bear, leopard, lion, tiger, wolf\n",
    "  - large man-made outdoor things -> bridge, castle, house, road, skyscraper\n",
    "  - large natural outdoor scenes -> cloud, forest, mountain, plain, sea\n",
    "  - large omnivores and herbivores -> camel, cattle, chimpanzee, elephant, kangaroo\n",
    "  - medium-sized mammals -> fox, porcupine, possum, raccoon, skunk\n",
    "  - non-insect invertebrates -> crab, lobster, snail, spider, worm\n",
    "  - people -> baby, boy, girl, man, woman\n",
    "  - reptiles -> crocodile, dinosaur, lizard, snake, turtle\n",
    "  - small mammals -> hamster, mouse, rabbit, shrew, squirrel\n",
    "  - trees -> maple, oak, palm, pine, willow\n",
    "  - vehicles 1 -> bicycle, bus, motorcycle, pickup truck, train\n",
    "  - vehicles 2 -> lawn-mower, rocket, streetcar, tank, tractor\n",
    "- 데이터에 포함된 이미지를 일부 추출하여 확인해보면 다음과 같다."
   ]
  },
  {
   "cell_type": "code",
   "execution_count": null,
   "metadata": {},
   "outputs": [],
   "source": []
  }
 ],
 "metadata": {
  "kernelspec": {
   "display_name": "Python 3",
   "language": "python",
   "name": "python3"
  },
  "language_info": {
   "codemirror_mode": {
    "name": "ipython",
    "version": 3
   },
   "file_extension": ".py",
   "mimetype": "text/x-python",
   "name": "python",
   "nbconvert_exporter": "python",
   "pygments_lexer": "ipython3",
   "version": "3.7.3"
  }
 },
 "nbformat": 4,
 "nbformat_minor": 2
}
